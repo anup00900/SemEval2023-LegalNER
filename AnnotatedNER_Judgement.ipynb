{
  "nbformat": 4,
  "nbformat_minor": 0,
  "metadata": {
    "colab": {
      "provenance": [],
      "machine_shape": "hm"
    },
    "kernelspec": {
      "name": "python3",
      "display_name": "Python 3"
    },
    "language_info": {
      "name": "python"
    },
    "accelerator": "GPU",
    "gpuClass": "premium"
  },
  "cells": [
    {
      "cell_type": "code",
      "source": [
        "#!pip install spacy==3.0.6"
      ],
      "metadata": {
        "id": "RQ-7bp0xWcCE"
      },
      "execution_count": null,
      "outputs": []
    },
    {
      "cell_type": "code",
      "source": [
        "gpu_info = !nvidia-smi\n",
        "gpu_info = '\\n'.join(gpu_info)\n",
        "if gpu_info.find('failed') >= 0:\n",
        "  print('Not connected to a GPU')\n",
        "else:\n",
        "  print(gpu_info)"
      ],
      "metadata": {
        "colab": {
          "base_uri": "https://localhost:8080/"
        },
        "id": "kVYnXvq1XuoY",
        "outputId": "f404a3b6-7f45-4a9e-880a-8fd87e6cfa6c"
      },
      "execution_count": null,
      "outputs": [
        {
          "output_type": "stream",
          "name": "stdout",
          "text": [
            "Tue Jan 17 07:51:42 2023       \n",
            "+-----------------------------------------------------------------------------+\n",
            "| NVIDIA-SMI 460.32.03    Driver Version: 460.32.03    CUDA Version: 11.2     |\n",
            "|-------------------------------+----------------------+----------------------+\n",
            "| GPU  Name        Persistence-M| Bus-Id        Disp.A | Volatile Uncorr. ECC |\n",
            "| Fan  Temp  Perf  Pwr:Usage/Cap|         Memory-Usage | GPU-Util  Compute M. |\n",
            "|                               |                      |               MIG M. |\n",
            "|===============================+======================+======================|\n",
            "|   0  A100-SXM4-40GB      Off  | 00000000:00:04.0 Off |                    0 |\n",
            "| N/A   29C    P0    44W / 400W |      0MiB / 40536MiB |      0%      Default |\n",
            "|                               |                      |             Disabled |\n",
            "+-------------------------------+----------------------+----------------------+\n",
            "                                                                               \n",
            "+-----------------------------------------------------------------------------+\n",
            "| Processes:                                                                  |\n",
            "|  GPU   GI   CI        PID   Type   Process name                  GPU Memory |\n",
            "|        ID   ID                                                   Usage      |\n",
            "|=============================================================================|\n",
            "|  No running processes found                                                 |\n",
            "+-----------------------------------------------------------------------------+\n"
          ]
        }
      ]
    },
    {
      "cell_type": "code",
      "source": [
        "from google.colab import drive\n",
        "drive.mount('/content/drive')"
      ],
      "metadata": {
        "colab": {
          "base_uri": "https://localhost:8080/"
        },
        "id": "C2GlunODXi2E",
        "outputId": "6349cd62-fe79-4ff6-876f-fa9499ca1159"
      },
      "execution_count": null,
      "outputs": [
        {
          "output_type": "stream",
          "name": "stdout",
          "text": [
            "Mounted at /content/drive\n"
          ]
        }
      ]
    },
    {
      "cell_type": "code",
      "source": [
        "import tensorflow as tf\n",
        "tf.test.gpu_device_name()"
      ],
      "metadata": {
        "colab": {
          "base_uri": "https://localhost:8080/",
          "height": 35
        },
        "id": "eyNtWD7TvtjK",
        "outputId": "62e5b640-9ab1-4636-df4e-05186f471aac"
      },
      "execution_count": null,
      "outputs": [
        {
          "output_type": "execute_result",
          "data": {
            "text/plain": [
              "'/device:GPU:0'"
            ],
            "application/vnd.google.colaboratory.intrinsic+json": {
              "type": "string"
            }
          },
          "metadata": {},
          "execution_count": 2
        }
      ]
    },
    {
      "cell_type": "code",
      "source": [
        "from psutil import virtual_memory\n",
        "ram_gb = virtual_memory().total / 1e9\n",
        "print('Your runtime has {:.1f} gigabytes of available RAM\\n'.format(ram_gb))\n",
        "\n",
        "if ram_gb < 20:\n",
        "  print('Not using a high-RAM runtime')\n",
        "else:\n",
        "  print('You are using a high-RAM runtime!')"
      ],
      "metadata": {
        "colab": {
          "base_uri": "https://localhost:8080/"
        },
        "id": "9S--sAEvX6tx",
        "outputId": "4af55246-8f88-449c-d0f8-761963d60f34"
      },
      "execution_count": null,
      "outputs": [
        {
          "output_type": "stream",
          "name": "stdout",
          "text": [
            "Your runtime has 89.6 gigabytes of available RAM\n",
            "\n",
            "You are using a high-RAM runtime!\n"
          ]
        }
      ]
    },
    {
      "cell_type": "code",
      "source": [
        "from tensorflow.python.client import device_lib\n",
        "device_lib.list_local_devices()"
      ],
      "metadata": {
        "id": "NgGCCYexvtl-"
      },
      "execution_count": null,
      "outputs": []
    },
    {
      "cell_type": "code",
      "source": [
        "!pip install --upgrade spacy[cuda112]"
      ],
      "metadata": {
        "colab": {
          "base_uri": "https://localhost:8080/"
        },
        "id": "I8PP8yu7t3Jc",
        "outputId": "407bd507-7591-4773-c045-b1178b7a79de"
      },
      "execution_count": null,
      "outputs": [
        {
          "output_type": "stream",
          "name": "stdout",
          "text": [
            "Looking in indexes: https://pypi.org/simple, https://us-python.pkg.dev/colab-wheels/public/simple/\n",
            "Requirement already satisfied: spacy[cuda112] in /usr/local/lib/python3.8/dist-packages (3.4.4)\n",
            "Requirement already satisfied: spacy-loggers<2.0.0,>=1.0.0 in /usr/local/lib/python3.8/dist-packages (from spacy[cuda112]) (1.0.4)\n",
            "Requirement already satisfied: thinc<8.2.0,>=8.1.0 in /usr/local/lib/python3.8/dist-packages (from spacy[cuda112]) (8.1.6)\n",
            "Requirement already satisfied: tqdm<5.0.0,>=4.38.0 in /usr/local/lib/python3.8/dist-packages (from spacy[cuda112]) (4.64.1)\n",
            "Requirement already satisfied: preshed<3.1.0,>=3.0.2 in /usr/local/lib/python3.8/dist-packages (from spacy[cuda112]) (3.0.8)\n",
            "Requirement already satisfied: pathy>=0.3.5 in /usr/local/lib/python3.8/dist-packages (from spacy[cuda112]) (0.10.1)\n",
            "Requirement already satisfied: packaging>=20.0 in /usr/local/lib/python3.8/dist-packages (from spacy[cuda112]) (21.3)\n",
            "Requirement already satisfied: setuptools in /usr/local/lib/python3.8/dist-packages (from spacy[cuda112]) (57.4.0)\n",
            "Requirement already satisfied: catalogue<2.1.0,>=2.0.6 in /usr/local/lib/python3.8/dist-packages (from spacy[cuda112]) (2.0.8)\n",
            "Requirement already satisfied: typer<0.8.0,>=0.3.0 in /usr/local/lib/python3.8/dist-packages (from spacy[cuda112]) (0.7.0)\n",
            "Requirement already satisfied: numpy>=1.15.0 in /usr/local/lib/python3.8/dist-packages (from spacy[cuda112]) (1.21.6)\n",
            "Requirement already satisfied: srsly<3.0.0,>=2.4.3 in /usr/local/lib/python3.8/dist-packages (from spacy[cuda112]) (2.4.5)\n",
            "Requirement already satisfied: jinja2 in /usr/local/lib/python3.8/dist-packages (from spacy[cuda112]) (2.11.3)\n",
            "Requirement already satisfied: cymem<2.1.0,>=2.0.2 in /usr/local/lib/python3.8/dist-packages (from spacy[cuda112]) (2.0.7)\n",
            "Requirement already satisfied: murmurhash<1.1.0,>=0.28.0 in /usr/local/lib/python3.8/dist-packages (from spacy[cuda112]) (1.0.9)\n",
            "Requirement already satisfied: requests<3.0.0,>=2.13.0 in /usr/local/lib/python3.8/dist-packages (from spacy[cuda112]) (2.25.1)\n",
            "Requirement already satisfied: wasabi<1.1.0,>=0.9.1 in /usr/local/lib/python3.8/dist-packages (from spacy[cuda112]) (0.10.1)\n",
            "Requirement already satisfied: langcodes<4.0.0,>=3.2.0 in /usr/local/lib/python3.8/dist-packages (from spacy[cuda112]) (3.3.0)\n",
            "Requirement already satisfied: spacy-legacy<3.1.0,>=3.0.10 in /usr/local/lib/python3.8/dist-packages (from spacy[cuda112]) (3.0.11)\n",
            "Requirement already satisfied: pydantic!=1.8,!=1.8.1,<1.11.0,>=1.7.4 in /usr/local/lib/python3.8/dist-packages (from spacy[cuda112]) (1.10.4)\n",
            "Requirement already satisfied: smart-open<7.0.0,>=5.2.1 in /usr/local/lib/python3.8/dist-packages (from spacy[cuda112]) (6.3.0)\n",
            "Collecting cupy-cuda112<12.0.0,>=5.0.0b4\n",
            "  Downloading cupy_cuda112-10.6.0-cp38-cp38-manylinux1_x86_64.whl (80.8 MB)\n",
            "\u001b[2K     \u001b[90m━━━━━━━━━━━━━━━━━━━━━━━━━━━━━━━━━━━━━━━━\u001b[0m \u001b[32m80.8/80.8 MB\u001b[0m \u001b[31m20.6 MB/s\u001b[0m eta \u001b[36m0:00:00\u001b[0m\n",
            "\u001b[?25hRequirement already satisfied: fastrlock>=0.5 in /usr/local/lib/python3.8/dist-packages (from cupy-cuda112<12.0.0,>=5.0.0b4->spacy[cuda112]) (0.8.1)\n",
            "Requirement already satisfied: pyparsing!=3.0.5,>=2.0.2 in /usr/local/lib/python3.8/dist-packages (from packaging>=20.0->spacy[cuda112]) (3.0.9)\n",
            "Requirement already satisfied: typing-extensions>=4.2.0 in /usr/local/lib/python3.8/dist-packages (from pydantic!=1.8,!=1.8.1,<1.11.0,>=1.7.4->spacy[cuda112]) (4.4.0)\n",
            "Requirement already satisfied: urllib3<1.27,>=1.21.1 in /usr/local/lib/python3.8/dist-packages (from requests<3.0.0,>=2.13.0->spacy[cuda112]) (1.24.3)\n",
            "Requirement already satisfied: idna<3,>=2.5 in /usr/local/lib/python3.8/dist-packages (from requests<3.0.0,>=2.13.0->spacy[cuda112]) (2.10)\n",
            "Requirement already satisfied: certifi>=2017.4.17 in /usr/local/lib/python3.8/dist-packages (from requests<3.0.0,>=2.13.0->spacy[cuda112]) (2022.12.7)\n",
            "Requirement already satisfied: chardet<5,>=3.0.2 in /usr/local/lib/python3.8/dist-packages (from requests<3.0.0,>=2.13.0->spacy[cuda112]) (4.0.0)\n",
            "Requirement already satisfied: blis<0.8.0,>=0.7.8 in /usr/local/lib/python3.8/dist-packages (from thinc<8.2.0,>=8.1.0->spacy[cuda112]) (0.7.9)\n",
            "Requirement already satisfied: confection<1.0.0,>=0.0.1 in /usr/local/lib/python3.8/dist-packages (from thinc<8.2.0,>=8.1.0->spacy[cuda112]) (0.0.3)\n",
            "Requirement already satisfied: click<9.0.0,>=7.1.1 in /usr/local/lib/python3.8/dist-packages (from typer<0.8.0,>=0.3.0->spacy[cuda112]) (7.1.2)\n",
            "Requirement already satisfied: MarkupSafe>=0.23 in /usr/local/lib/python3.8/dist-packages (from jinja2->spacy[cuda112]) (2.0.1)\n",
            "Installing collected packages: cupy-cuda112\n",
            "Successfully installed cupy-cuda112-10.6.0\n"
          ]
        }
      ]
    },
    {
      "cell_type": "code",
      "source": [],
      "metadata": {
        "id": "Ncq-_Rdut3M9"
      },
      "execution_count": null,
      "outputs": []
    },
    {
      "cell_type": "code",
      "source": [
        "#!pip freeze"
      ],
      "metadata": {
        "id": "tCGOHyH3cd7P"
      },
      "execution_count": null,
      "outputs": []
    },
    {
      "cell_type": "code",
      "source": [
        "#!pip uninstall cupy-cuda111"
      ],
      "metadata": {
        "id": "Kh4lizz5eO1F"
      },
      "execution_count": null,
      "outputs": []
    },
    {
      "cell_type": "code",
      "execution_count": null,
      "metadata": {
        "id": "0p0sSt0DmQBx"
      },
      "outputs": [],
      "source": [
        "#import json\n",
        "#import spacy "
      ]
    },
    {
      "cell_type": "code",
      "source": [
        "#!python -m spacy info"
      ],
      "metadata": {
        "id": "EqayOffrNwk8"
      },
      "execution_count": null,
      "outputs": []
    },
    {
      "cell_type": "code",
      "source": [
        "# import spacy\n",
        "# from spacy.tokens import DocBin\n",
        "# from tqdm import tqdm\n",
        "\n",
        "# nlp = spacy.blank(\"en\") # load a new spacy model\n",
        "# db = DocBin() # create a DocBin object"
      ],
      "metadata": {
        "id": "f38V2sMZW3Kq"
      },
      "execution_count": null,
      "outputs": []
    },
    {
      "cell_type": "code",
      "source": [
        "#!pip install spacy[transformers]"
      ],
      "metadata": {
        "id": "no0k0U-WL4An"
      },
      "execution_count": null,
      "outputs": []
    },
    {
      "cell_type": "markdown",
      "source": [
        "If you use CUDA, check your version with nvcc --version"
      ],
      "metadata": {
        "id": "NMSOEHvDMLzX"
      }
    },
    {
      "cell_type": "code",
      "source": [
        "#!nvcc --version"
      ],
      "metadata": {
        "id": "G42cA8urMCpL",
        "colab": {
          "base_uri": "https://localhost:8080/"
        },
        "outputId": "a4c380c5-a588-475b-b342-0f487c7e5dd5"
      },
      "execution_count": null,
      "outputs": [
        {
          "output_type": "stream",
          "name": "stdout",
          "text": [
            "nvcc: NVIDIA (R) Cuda compiler driver\n",
            "Copyright (c) 2005-2021 NVIDIA Corporation\n",
            "Built on Sun_Feb_14_21:12:58_PST_2021\n",
            "Cuda compilation tools, release 11.2, V11.2.152\n",
            "Build cuda_11.2.r11.2/compiler.29618528_0\n"
          ]
        }
      ]
    },
    {
      "cell_type": "code",
      "source": [
        "#!pip install -U spacy[cuda112]"
      ],
      "metadata": {
        "id": "4jL-5eDLdLRe"
      },
      "execution_count": null,
      "outputs": []
    },
    {
      "cell_type": "markdown",
      "source": [
        "Add the CUDA version to the install — I have CUDA 11.1, so my install command is:"
      ],
      "metadata": {
        "id": "UCGjQZGCMNhP"
      }
    },
    {
      "cell_type": "code",
      "source": [
        "#!pip install spacy[transformers,cuda112]"
      ],
      "metadata": {
        "id": "9K_H41PvMHH6"
      },
      "execution_count": null,
      "outputs": []
    },
    {
      "cell_type": "markdown",
      "source": [
        "**Initializing A spaCy Transformer**\n",
        "\n",
        "\n",
        "Now that we’ve installed spacy-transformers, we can start using the transformer models in the same way that we’d usually use spaCy models.\n",
        "\n",
        "The only exception here is that we download and initialize a spaCy transformer model — rather than the usual models.\n",
        "\n",
        "We download the roBERTa-base model with:"
      ],
      "metadata": {
        "id": "jhYU9PjkMfzE"
      }
    },
    {
      "cell_type": "code",
      "source": [
        "!python3 -m spacy download en_core_web_trf"
      ],
      "metadata": {
        "id": "KZW7x17NMiIk"
      },
      "execution_count": null,
      "outputs": []
    },
    {
      "cell_type": "code",
      "source": [
        "import spacy\n",
        "spacy.prefer_gpu()\n",
        "from spacy.tokens import DocBin\n",
        "from tqdm import tqdm\n",
        "import spacy_transformers\n",
        "\n",
        "\n",
        "# nlp = spacy.load('en_core_web_trf') # load a new spacy model\n",
        "# db = DocBin() # create a DocBin object"
      ],
      "metadata": {
        "id": "QLz3SnACNG5l"
      },
      "execution_count": null,
      "outputs": []
    },
    {
      "cell_type": "code",
      "source": [
        "spacy.prefer_gpu()"
      ],
      "metadata": {
        "colab": {
          "base_uri": "https://localhost:8080/"
        },
        "id": "-hmBDJFewRhq",
        "outputId": "7a86fafa-9dcf-45b7-de9a-3ec6722e087c"
      },
      "execution_count": null,
      "outputs": [
        {
          "output_type": "execute_result",
          "data": {
            "text/plain": [
              "True"
            ]
          },
          "metadata": {},
          "execution_count": 6
        }
      ]
    },
    {
      "cell_type": "code",
      "source": [
        "nlp = spacy.load(\"en_core_web_trf\")"
      ],
      "metadata": {
        "id": "ifBMl1IIwVzY"
      },
      "execution_count": null,
      "outputs": []
    },
    {
      "cell_type": "code",
      "source": [
        "#!pip uninstall cupy-cuda11x"
      ],
      "metadata": {
        "colab": {
          "base_uri": "https://localhost:8080/"
        },
        "id": "lsGTduzmY3tE",
        "outputId": "a0917292-4d86-4220-bbea-c5a66bd0fa00"
      },
      "execution_count": null,
      "outputs": [
        {
          "output_type": "stream",
          "name": "stdout",
          "text": [
            "Found existing installation: cupy-cuda11x 11.0.0\n",
            "Uninstalling cupy-cuda11x-11.0.0:\n",
            "  Would remove:\n",
            "    /usr/local/lib/python3.8/dist-packages/cupy_cuda11x-11.0.0.dist-info/*\n",
            "Proceed (Y/n)? Y\n",
            "  Successfully uninstalled cupy-cuda11x-11.0.0\n"
          ]
        }
      ]
    },
    {
      "cell_type": "code",
      "source": [
        "#!conda uninstall cupy"
      ],
      "metadata": {
        "colab": {
          "base_uri": "https://localhost:8080/"
        },
        "id": "LzR2tCMGZfzQ",
        "outputId": "b13eb31e-0d1c-4f5e-9f3b-9f6a6b33a0df"
      },
      "execution_count": null,
      "outputs": [
        {
          "output_type": "stream",
          "name": "stdout",
          "text": [
            "/bin/bash: conda: command not found\n"
          ]
        }
      ]
    },
    {
      "cell_type": "code",
      "source": [
        "!python3 -m spacy init fill-config '/content/base_config.cfg' config.cfg"
      ],
      "metadata": {
        "colab": {
          "base_uri": "https://localhost:8080/"
        },
        "id": "MCeio0TuP2WZ",
        "outputId": "20ad1183-ae70-41f6-971c-1e49f25cd780"
      },
      "execution_count": null,
      "outputs": [
        {
          "output_type": "stream",
          "name": "stdout",
          "text": [
            "\u001b[38;5;2m✔ Auto-filled config with all values\u001b[0m\n",
            "\u001b[38;5;2m✔ Saved config\u001b[0m\n",
            "config.cfg\n",
            "You can now add your data and train your pipeline:\n",
            "python -m spacy train config.cfg --paths.train ./train.spacy --paths.dev ./dev.spacy\n"
          ]
        }
      ]
    },
    {
      "cell_type": "code",
      "source": [
        "#nlp = spacy.load(\"en_core_web_trf\")"
      ],
      "metadata": {
        "id": "WRrQ0i-1xl6x"
      },
      "execution_count": null,
      "outputs": []
    },
    {
      "cell_type": "code",
      "source": [
        "!python3 -m spacy train config.cfg --output /content/drive/MyDrive/MODELS_LEGAL_BERT --paths.train /content/drive/MyDrive/spacy_file/NER_TRAIN_JUDGEMENT.spacy --paths.dev /content/drive/MyDrive/spacy_file/NER_DEV_JUDGEMENT.spacy --paths.vectors /content/drive/MyDrive/Embedding/Embedding -g 0\n"
      ],
      "metadata": {
        "id": "UBWGipzmW5zZ",
        "colab": {
          "base_uri": "https://localhost:8080/"
        },
        "outputId": "16978a7e-8fcb-45f3-85cc-a9caa1d6cfd1"
      },
      "execution_count": null,
      "outputs": [
        {
          "output_type": "stream",
          "name": "stdout",
          "text": [
            "\u001b[38;5;4mℹ Saving to output directory:\n",
            "/content/drive/MyDrive/MODELS_LEGAL_BERT\u001b[0m\n",
            "\u001b[38;5;4mℹ Using GPU: 0\u001b[0m\n",
            "\u001b[1m\n",
            "=========================== Initializing pipeline ===========================\u001b[0m\n",
            "[2023-01-17 08:08:38,690] [INFO] Set up nlp object from config\n",
            "INFO:spacy:Set up nlp object from config\n",
            "[2023-01-17 08:08:38,702] [INFO] Pipeline: ['transformer', 'ner']\n",
            "INFO:spacy:Pipeline: ['transformer', 'ner']\n",
            "[2023-01-17 08:08:38,705] [INFO] Created vocabulary\n",
            "INFO:spacy:Created vocabulary\n",
            "[2023-01-17 08:08:42,078] [INFO] Added vectors: /content/drive/MyDrive/Embedding/Embedding\n",
            "INFO:spacy:Added vectors: /content/drive/MyDrive/Embedding/Embedding\n",
            "[2023-01-17 08:08:42,504] [INFO] Finished initializing nlp object\n",
            "INFO:spacy:Finished initializing nlp object\n",
            "Downloading: 100% 48.0/48.0 [00:00<00:00, 51.4kB/s]\n",
            "Downloading: 100% 1.02k/1.02k [00:00<00:00, 924kB/s]\n",
            "Downloading: 100% 222k/222k [00:00<00:00, 1.90MB/s]\n",
            "Downloading: 100% 112/112 [00:00<00:00, 119kB/s]\n",
            "Downloading: 100% 440M/440M [00:04<00:00, 94.2MB/s]\n",
            "Some weights of the model checkpoint at nlpaueb/legal-bert-base-uncased were not used when initializing BertModel: ['cls.seq_relationship.bias', 'cls.predictions.decoder.weight', 'cls.predictions.transform.LayerNorm.bias', 'cls.predictions.decoder.bias', 'cls.predictions.bias', 'cls.predictions.transform.dense.bias', 'cls.seq_relationship.weight', 'cls.predictions.transform.dense.weight', 'cls.predictions.transform.LayerNorm.weight']\n",
            "- This IS expected if you are initializing BertModel from the checkpoint of a model trained on another task or with another architecture (e.g. initializing a BertForSequenceClassification model from a BertForPreTraining model).\n",
            "- This IS NOT expected if you are initializing BertModel from the checkpoint of a model that you expect to be exactly identical (initializing a BertForSequenceClassification model from a BertForSequenceClassification model).\n",
            "[2023-01-17 08:09:04,069] [INFO] Initialized pipeline components: ['transformer', 'ner']\n",
            "INFO:spacy:Initialized pipeline components: ['transformer', 'ner']\n",
            "\u001b[38;5;2m✔ Initialized pipeline\u001b[0m\n",
            "\u001b[1m\n",
            "============================= Training pipeline =============================\u001b[0m\n",
            "\u001b[38;5;4mℹ Pipeline: ['transformer', 'ner']\u001b[0m\n",
            "\u001b[38;5;4mℹ Initial learn rate: 0.0\u001b[0m\n",
            "E    #       LOSS TRANS...  LOSS NER  ENTS_F  ENTS_P  ENTS_R  SCORE \n",
            "---  ------  -------------  --------  ------  ------  ------  ------\n",
            "  0       0        1073.42   1670.29    0.48    0.25    5.50    0.00\n",
            "  1     200       96453.70  74238.86   35.04   38.51   32.14    0.35\n",
            "  2     400       22314.93  12905.23   70.03   66.12   74.44    0.70\n",
            "  3     600        6827.21   7056.06   79.84   77.93   81.84    0.80\n",
            "  4     800        5486.48   4487.52   81.90   79.73   84.19    0.82\n",
            "  6    1000        3002.87   3091.10   82.87   80.70   85.15    0.83\n",
            "  7    1200        3633.80   2372.17   83.49   82.28   84.75    0.83\n",
            "  8    1400        3342.26   1976.96   82.77   80.27   85.42    0.83\n",
            "  9    1600        1492.08   1418.73   82.15   80.36   84.03    0.82\n",
            " 11    1800        2188.87   1259.40   82.52   79.92   85.30    0.83\n",
            " 12    2000        1305.46   1011.74   83.22   81.13   85.42    0.83\n",
            " 13    2200        1689.16    884.58   83.59   81.68   85.59    0.84\n",
            " 14    2400        1512.54    841.42   83.69   81.81   85.66    0.84\n",
            " 16    2600         958.67    627.52   82.82   81.01   84.72    0.83\n",
            " 17    2800        1567.48    671.08   83.77   82.98   84.58    0.84\n",
            " 18    3000         568.10    476.85   83.83   82.41   85.30    0.84\n",
            " 19    3200         445.28    394.94   83.02   80.82   85.35    0.83\n",
            " 21    3400         445.82    386.82   83.13   81.20   85.15    0.83\n",
            " 22    3600         275.02    298.93   83.93   82.52   85.40    0.84\n",
            " 23    3800         425.79    313.58   82.61   80.86   84.43    0.83\n",
            " 24    4000         306.30    287.42   83.74   82.17   85.37    0.84\n",
            " 26    4200         323.42    251.70   82.85   81.33   84.43    0.83\n",
            " 27    4400         427.96    274.06   83.13   81.52   84.79    0.83\n",
            " 28    4600         329.59    255.46   83.24   82.17   84.34    0.83\n",
            " 29    4800         164.56    180.45   83.74   82.00   85.56    0.84\n",
            " 30    5000         184.49    191.81   83.57   81.87   85.35    0.84\n",
            " 32    5200         252.18    155.61   84.25   83.57   84.94    0.84\n",
            " 33    5400         170.41    149.71   83.97   82.43   85.56    0.84\n",
            " 34    5600         277.88    167.99   83.74   82.46   85.06    0.84\n",
            " 35    5800          97.88    110.00   83.51   82.77   84.27    0.84\n",
            " 37    6000         546.72    141.92   83.60   82.15   85.11    0.84\n",
            " 38    6200         274.98    141.98   83.75   82.79   84.72    0.84\n",
            " 39    6400         360.00    191.69   83.34   81.78   84.96    0.83\n",
            " 40    6600         294.20    218.18   83.71   81.89   85.61    0.84\n",
            " 42    6800         178.59    136.51   83.88   81.91   85.95    0.84\n",
            "\u001b[38;5;2m✔ Saved pipeline to output directory\u001b[0m\n",
            "/content/drive/MyDrive/MODELS_LEGAL_BERT/model-last\n"
          ]
        }
      ]
    },
    {
      "cell_type": "code",
      "source": [
        "#spacy.require_gpu()"
      ],
      "metadata": {
        "colab": {
          "base_uri": "https://localhost:8080/"
        },
        "id": "jqnaUaWPf6wF",
        "outputId": "6d9f9183-2639-49ee-aab4-e8ce9a5c0401"
      },
      "execution_count": null,
      "outputs": [
        {
          "output_type": "execute_result",
          "data": {
            "text/plain": [
              "True"
            ]
          },
          "metadata": {},
          "execution_count": 13
        }
      ]
    },
    {
      "cell_type": "code",
      "source": [
        "!python -m spacy evaluate /content/drive/MyDrive/MODELS_LEGAL_BERT/model-best /content/drive/MyDrive/spacy_file/NER_TEST_JUDGEMENT.spacy --output /content/drive/MyDrive/spacy_file/test_judgement_legal_bert.json --displacy-path /content/drive/MyDrive/spacy_file/displacy --displacy-limit 1000 --gpu-id 0 --gold-preproc"
      ],
      "metadata": {
        "id": "BlM6WimHW6Ea",
        "colab": {
          "base_uri": "https://localhost:8080/"
        },
        "outputId": "b26c7fd6-1514-4fbc-91db-286cc3a33e57"
      },
      "execution_count": null,
      "outputs": [
        {
          "output_type": "stream",
          "name": "stdout",
          "text": [
            "\u001b[38;5;4mℹ Using GPU: 0\u001b[0m\n",
            "\u001b[1m\n",
            "================================== Results ==================================\u001b[0m\n",
            "\n",
            "TOK     100.00\n",
            "NER P   82.35 \n",
            "NER R   85.17 \n",
            "NER F   83.74 \n",
            "SPEED   10989 \n",
            "\n",
            "\u001b[1m\n",
            "=============================== NER (per type) ===============================\u001b[0m\n",
            "\n",
            "                    P        R       F\n",
            "STATUTE         90.61    90.61   90.61\n",
            "PRECEDENT       68.97    76.92   72.73\n",
            "JUDGE           72.73   100.00   84.21\n",
            "GPE             77.19    74.16   75.64\n",
            "OTHER_PERSON    86.72    88.68   87.69\n",
            "DATE            82.85    98.51   90.00\n",
            "PROVISION       88.39    89.59   88.99\n",
            "CASE_NUMBER     75.59    84.96   80.00\n",
            "COURT           91.72    89.60   90.64\n",
            "ORG             67.69    59.86   63.54\n",
            "PETITIONER      50.00    77.78   60.87\n",
            "WITNESS         90.00    93.10   91.53\n",
            "RESPONDENT     100.00    80.00   88.89\n",
            "\n",
            "/usr/local/lib/python3.8/dist-packages/spacy/displacy/__init__.py:206: UserWarning: [W006] No entities to visualize found in Doc object. If this is surprising to you, make sure the Doc was processed using a model that supports named entity recognition, and check the `doc.ents` property manually if necessary.\n",
            "  warnings.warn(Warnings.W006)\n",
            "\u001b[38;5;2m✔ Generated 1000 parses as HTML\u001b[0m\n",
            "/content/drive/MyDrive/spacy_file/displacy\n",
            "\u001b[38;5;2m✔ Saved results to\n",
            "/content/drive/MyDrive/spacy_file/test_judgement_legal_bert.json\u001b[0m\n"
          ]
        }
      ]
    },
    {
      "cell_type": "code",
      "source": [
        "#!python -m spacy evaluate --help"
      ],
      "metadata": {
        "id": "BtMIlTyafytE"
      },
      "execution_count": null,
      "outputs": []
    },
    {
      "cell_type": "code",
      "source": [
        "nlp = spacy.load(\"/content/drive/MyDrive/MODELS_LEGAL_BERT/model-best\")"
      ],
      "metadata": {
        "id": "dOiJDB62W6Hx"
      },
      "execution_count": null,
      "outputs": []
    },
    {
      "cell_type": "code",
      "source": [
        "pattern = r\"Paul [A-Z]\\w+\""
      ],
      "metadata": {
        "id": "dr6TNznYCYmO"
      },
      "execution_count": null,
      "outputs": []
    },
    {
      "cell_type": "code",
      "source": [
        "from spacy.util import filter_spans\n",
        "import re\n",
        "\n",
        "for text in l:\n",
        "    doc = nlp(text)\n",
        "    mwt_ents = []\n",
        "    original_ents = list(doc.ents)\n",
        "    for match in re.finditer(pattern, doc.text):\n",
        "      print (match)\n",
        "      start, end = match.span()\n",
        "      span = doc.char_span(start, end)\n",
        "      if span is not None:\n",
        "        mwt_ents.append((span.start, span.end, span.text))\n",
        "for ent in mwt_ents:\n",
        "    start, end, name = ent\n",
        "    per_ent = Span(doc, start, end, label=\"CINEMA\")\n",
        "    original_ents.append(per_ent)\n",
        "filtered = filter_spans(original_ents)\n",
        "doc.ents = filtered\n",
        "for ent in doc.ents:\n",
        "    print (ent.text, ent.label_)"
      ],
      "metadata": {
        "id": "nMw4zoEQAWkA"
      },
      "execution_count": null,
      "outputs": []
    },
    {
      "cell_type": "code",
      "source": [],
      "metadata": {
        "id": "DhM5dxERAWyV"
      },
      "execution_count": null,
      "outputs": []
    },
    {
      "cell_type": "code",
      "source": [
        "output_file=[]\n",
        "for text in l:\n",
        "    temp_json={}\n",
        "    doc = nlp(text)\n",
        "\n",
        "    # print(f\"Input: {text}\")/\n",
        "    temp_json['text']=text\n",
        "    temp_json['entity']=[]\n",
        "    temp_json['label']=[]\n",
        "    temp_json['start']=[]\n",
        "    temp_json['end']=[]\n",
        "    for entity in doc.ents:\n",
        "        # print(f\"Entity: {entity.text}, Label: {entity.label_}\")\n",
        "        temp_json['entity'].append(entity.text)\n",
        "        temp_json['label'].append(entity.label_)\n",
        "        temp_json['start'].append(entity.start_char)\n",
        "        temp_json['end'].append(entity.end_char)\n",
        "    #print(\"---\")\n",
        "    output_file.append(temp_json)"
      ],
      "metadata": {
        "id": "C9B3Zn7sW6LA"
      },
      "execution_count": null,
      "outputs": []
    },
    {
      "cell_type": "code",
      "source": [
        "import json\n",
        "f=open('judgement_output.json','w')\n",
        "json.dump(output_file,f)\n",
        "f.close()"
      ],
      "metadata": {
        "id": "7EL5kyJMW6OJ"
      },
      "execution_count": null,
      "outputs": []
    },
    {
      "cell_type": "code",
      "source": [],
      "metadata": {
        "id": "bXEY9gn9myMP"
      },
      "execution_count": null,
      "outputs": []
    },
    {
      "cell_type": "code",
      "source": [],
      "metadata": {
        "id": "dIUHKPWWp3Ea"
      },
      "execution_count": null,
      "outputs": []
    }
  ]
}